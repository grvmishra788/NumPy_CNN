{
 "cells": [
  {
   "cell_type": "markdown",
   "metadata": {},
   "source": [
    "<h2>Step 1: Load Dataset</h2>"
   ]
  },
  {
   "cell_type": "code",
   "execution_count": 1,
   "metadata": {},
   "outputs": [],
   "source": [
    "#load important libraries\n",
    "import numpy as np\n",
    "import matplotlib.pyplot as plt\n",
    "%matplotlib inline"
   ]
  },
  {
   "cell_type": "code",
   "execution_count": 2,
   "metadata": {},
   "outputs": [],
   "source": [
    "#load dataset from NumPy array files\n",
    "X_train = np.load('./Dataset/X_train.npy')\n",
    "Y_train = np.load('./Dataset/Y_train.npy')\n",
    "X_test = np.load('./Dataset/X_test.npy')\n",
    "Y_test = np.load('./Dataset/Y_test.npy')"
   ]
  },
  {
   "cell_type": "code",
   "execution_count": 3,
   "metadata": {},
   "outputs": [
    {
     "data": {
      "text/plain": [
       "((57266, 28, 28), (57266,), (3015, 28, 28), (3015,))"
      ]
     },
     "execution_count": 3,
     "metadata": {},
     "output_type": "execute_result"
    }
   ],
   "source": [
    "#determine shapes of loaded arrays\n",
    "X_train.shape, Y_train.shape, X_test.shape, Y_test.shape"
   ]
  },
  {
   "cell_type": "code",
   "execution_count": 4,
   "metadata": {},
   "outputs": [],
   "source": [
    "#select random image array index to show\n",
    "train_index = 1185               # should be < 57266\n",
    "test_index = 1011                # should be < 3015"
   ]
  },
  {
   "cell_type": "code",
   "execution_count": 5,
   "metadata": {},
   "outputs": [
    {
     "data": {
      "image/png": "[encoded data removed]",
      "text/plain": [
       "<Figure size 432x288 with 2 Axes>"
      ]
     },
     "metadata": {},
     "output_type": "display_data"
    }
   ],
   "source": [
    "#show image & label for given train_index, test index\n",
    "fig,(ax1,ax2) = plt.subplots(nrows=1, ncols=2)\n",
    "ax1.imshow(X_train[train_index]).set_cmap(\"gray\")\n",
    "ax1.get_xaxis().set_ticks([])\n",
    "ax1.get_yaxis().set_ticks([])\n",
    "ax1.set_title(\"Image from training set - \"+str(Y_train[train_index]))\n",
    "\n",
    "ax2.imshow(X_test[test_index]).set_cmap(\"gray\")\n",
    "ax2.get_xaxis().set_ticks([])\n",
    "ax2.get_yaxis().set_ticks([])\n",
    "ax2.set_title(\"Image from test set - \"+str(Y_test[test_index]))\n",
    "print(end=\"\")"
   ]
  },
  {
   "cell_type": "markdown",
   "metadata": {},
   "source": [
    "<h2>Step 2: Create convolutional Layer</h2>"
   ]
  },
  {
   "cell_type": "code",
   "execution_count": 6,
   "metadata": {},
   "outputs": [],
   "source": [
    "def convolutionLayer(image, imageFilters, biases, stride=[1,1]):\n",
    "    \n",
    "    #assume 'valid' padding\n",
    "    padding = 0\n",
    "        \n",
    "    #get dimensions of image\n",
    "    heightImage = image.shape[0]\n",
    "    widthImage = image.shape[1]\n",
    "    channelImage = 1\n",
    "    if(len(image.shape)>2):\n",
    "        channelImage = image.shape[2]\n",
    "        \n",
    "    #get dimensions of imageFilters\n",
    "    numberImageFilters = imageFilters.shape[0]\n",
    "    heightImageFilters = imageFilters.shape[1]\n",
    "    widthImageFilters = imageFilters.shape[2]\n",
    "    channelImageFilters = 1\n",
    "    if(len(imageFilters.shape)>3):\n",
    "        channelImageFilters = imageFilters.shape[3]\n",
    "\n",
    "    #check if (No. of channels in image == imageFilters depth) && (imageFilters.length == imageFilters.breadth)\n",
    "    if( (channelImage == channelImageFilters) and (heightImageFilters==widthImageFilters) ):\n",
    "        #init output\n",
    "        heightOutputImage = int((heightImage+2*padding-heightImageFilters)/stride[0] + 1)\n",
    "        widthOutputImage = int((widthImage+2*padding-widthImageFilters)/stride[1] + 1)\n",
    "        results = np.zeros([heightOutputImage, widthOutputImage, numberImageFilters,], dtype=float)\n",
    "        \n",
    "        #iterate through each filter\n",
    "        for k in range(numberImageFilters):\n",
    "            currentImageFilter = imageFilters[k, :]\n",
    "            #iterate through all possible locations where filter can be placed\n",
    "            #create temp variable to store row_count in results\n",
    "            iprime = 0\n",
    "            for i in range(0, heightImage-heightImageFilters+1, stride[0]):\n",
    "                #create temp variable to store col_count in results\n",
    "                jprime = 0    \n",
    "                for j in range(0, widthImage-widthImageFilters+1, stride[1]):\n",
    "                    #get sum of (elementwise product of image and currentImageFilter at current location)\n",
    "                    if (channelImage == 1):\n",
    "                        results[iprime][jprime][k] = np.sum(np.multiply(image[i:i+heightImageFilters, j:j+widthImageFilters], currentImageFilter)) + biases[k]\n",
    "\n",
    "                    else:\n",
    "                        results[iprime][jprime][k] = np.sum(np.multiply(image[i:i+heightImageFilters, j:j+widthImageFilters, :], currentImageFilter)) +biases[k]\n",
    "                    #increment temp col_count\n",
    "                    jprime = jprime + 1\n",
    "                #increment temp row_count\n",
    "                iprime = iprime + 1\n",
    "        return results  "
   ]
  },
  {
   "cell_type": "code",
   "execution_count": 34,
   "metadata": {},
   "outputs": [
    {
     "name": "stdout",
     "output_type": "stream",
     "text": [
      "(4, 4, 3)\n",
      "(2, 3, 3, 3)\n",
      "(2,)\n"
     ]
    }
   ],
   "source": [
    "#create temporary image & imageFilter for demo\n",
    "image = np.array(\n",
    "    [[[1,1,1],[2,2,2],[3,3,3],[4,4,4]],\n",
    "     [[5,5,5],[6,6,6],[7,7,7],[8,8,8]],\n",
    "     [[9,9,9],[10,10,10],[11,11,11],[12,12,12]],\n",
    "     [[13,13,13],[14,14,14],[15,15,15],[16,16,16]]])\n",
    "\n",
    "imageFilters = np.array([\n",
    "    [[[1,1,1],[0,0,0],[-1,-1,-1]],\n",
    "     [[1,1,1],[0,0,0],[-1,-1,-1]],\n",
    "     [[1,1,1],[0,0,0],[-1,-1,-1]]],\n",
    "    [[[-1,-1,-1],[-1,-1,-1],[-1,-1,-1]],\n",
    "     [[0,0,0],[0,0,0],[0,0,0]],\n",
    "     [[1,1,1],[1,1,1],[1,1,1]]]\n",
    "    ])\n",
    "\n",
    "biases = np.array([0, -1000.2])\n",
    "\n",
    "print(image.shape)\n",
    "print(imageFilters.shape)\n",
    "print(biases.shape)"
   ]
  },
  {
   "cell_type": "code",
   "execution_count": 35,
   "metadata": {
    "scrolled": true
   },
   "outputs": [
    {
     "data": {
      "text/plain": [
       "array([[[ -18. , -928.2],\n",
       "        [ -18. , -928.2]],\n",
       "\n",
       "       [[ -18. , -928.2],\n",
       "        [ -18. , -928.2]]])"
      ]
     },
     "execution_count": 35,
     "metadata": {},
     "output_type": "execute_result"
    }
   ],
   "source": [
    "#run demo to show function is working\n",
    "convolutionLayer(image, imageFilters, biases)"
   ]
  },
  {
   "cell_type": "code",
   "execution_count": 36,
   "metadata": {},
   "outputs": [
    {
     "name": "stdout",
     "output_type": "stream",
     "text": [
      "(2, 3, 3)\n"
     ]
    }
   ],
   "source": [
    "#create 1 channel filters\n",
    "filterImg = np.array([[ [-1,-1,-1],\n",
    "                       [ 0, 0, 0],\n",
    "                       [ 1, 1, 1]],\n",
    "                       [[1,0,-1],\n",
    "                        [1,0,-1],\n",
    "                        [1,0,-1]]])\n",
    "print(filterImg.shape)"
   ]
  },
  {
   "cell_type": "code",
   "execution_count": 37,
   "metadata": {},
   "outputs": [
    {
     "data": {
      "image/png": "[encoded data removed]",
      "text/plain": [
       "<Figure size 432x288 with 3 Axes>"
      ]
     },
     "metadata": {},
     "output_type": "display_data"
    }
   ],
   "source": [
    "#visualizing convolution with 1 channel filters\n",
    "fig1,(ax1,ax2,ax3) = plt.subplots(nrows=1, ncols=3)\n",
    "ax1.imshow(X_train[train_index]).set_cmap(\"gray\")\n",
    "ax1.get_xaxis().set_ticks([])\n",
    "ax1.get_yaxis().set_ticks([])\n",
    "ax1.set_title(\"Input\")\n",
    "\n",
    "ax2.imshow(convolutionLayer(X_train[train_index], filterImg, biases)[:, :, 0]).set_cmap(\"gray\")\n",
    "ax2.get_xaxis().set_ticks([])\n",
    "ax2.get_yaxis().set_ticks([])\n",
    "ax2.set_title(\"Input*filter[0,:]\")\n",
    "\n",
    "ax3.imshow(convolutionLayer(X_train[train_index], filterImg, biases)[:, :, 1]).set_cmap(\"gray\")\n",
    "ax3.get_xaxis().set_ticks([])\n",
    "ax3.get_yaxis().set_ticks([])\n",
    "ax3.set_title(\"Input*filter[1,:]\")\n",
    "print(end=\"\")"
   ]
  },
  {
   "cell_type": "markdown",
   "metadata": {},
   "source": [
    "<h2>Step 3: Create Max Pooling Layer </h2>"
   ]
  },
  {
   "cell_type": "code",
   "execution_count": 11,
   "metadata": {},
   "outputs": [],
   "source": [
    "def maxPoolingLayer(image, size=[2,2], stride=[2,2]):\n",
    "    \n",
    "        #get dimensions of image\n",
    "        heightImage = image.shape[0]\n",
    "        widthImage = image.shape[1]\n",
    "        \n",
    "        #init output\n",
    "        heightOutputImage = int((image.shape[0]-size[0])/stride[0]+1)\n",
    "        widthOutputImage = int((image.shape[1]-size[1])/stride[1]+1)\n",
    "        channelOutputImage = image.shape[-1]\n",
    "        results = np.zeros([heightOutputImage, widthOutputImage, channelOutputImage], dtype=float)\n",
    "        #do for each map(channel) in image\n",
    "        for channel in range(channelOutputImage):\n",
    "            #create temp variable to store row_count in results\n",
    "            iprime = 0\n",
    "            #do for each row in stride[0] steps\n",
    "            for i in range(0, heightImage-size[0]+1, stride[0]):\n",
    "                #create temp variable to store col_count in results\n",
    "                jprime = 0\n",
    "                #do for each col in in stride[1] steps\n",
    "                for j in range(0, widthImage-size[1]+1, stride[1]):\n",
    "                    results[iprime, jprime, channel] = np.max(image[i:i+size[0], j:j+size[1], channel])\n",
    "                    #increment temp col_count\n",
    "                    jprime = jprime + 1\n",
    "                #increment temp row_count\n",
    "                iprime = iprime + 1\n",
    "                \n",
    "        return results"
   ]
  },
  {
   "cell_type": "code",
   "execution_count": 12,
   "metadata": {},
   "outputs": [
    {
     "data": {
      "text/plain": [
       "array([[[ 6.,  6.,  6.],\n",
       "        [ 8.,  8.,  8.]],\n",
       "\n",
       "       [[14., 14., 14.],\n",
       "        [16., 16., 16.]]])"
      ]
     },
     "execution_count": 12,
     "metadata": {},
     "output_type": "execute_result"
    }
   ],
   "source": [
    "#run demo to show function is working\n",
    "maxPoolingLayer(image)"
   ]
  },
  {
   "cell_type": "markdown",
   "metadata": {},
   "source": [
    "<h2>Step 4: Create ReLU Layer </h2>"
   ]
  },
  {
   "cell_type": "code",
   "execution_count": 13,
   "metadata": {},
   "outputs": [],
   "source": [
    "def relu(feature_map):\n",
    "    #take elementwise maximum between feature_map and zero\n",
    "    return np.maximum(feature_map, 0)"
   ]
  },
  {
   "cell_type": "code",
   "execution_count": 14,
   "metadata": {},
   "outputs": [
    {
     "name": "stdout",
     "output_type": "stream",
     "text": [
      "[[ 1.76405235  0.40015721  0.97873798]\n",
      " [ 2.2408932   1.86755799 -0.97727788]\n",
      " [ 0.95008842 -0.15135721 -0.10321885]]\n"
     ]
    }
   ],
   "source": [
    "#create random feature array\n",
    "np.random.seed(0)  #set seed to generate same filter everytime code is executed\n",
    "feature = np.random.randn(3,3)\n",
    "print(feature)"
   ]
  },
  {
   "cell_type": "code",
   "execution_count": 15,
   "metadata": {},
   "outputs": [
    {
     "data": {
      "text/plain": [
       "array([[1.76405235, 0.40015721, 0.97873798],\n",
       "       [2.2408932 , 1.86755799, 0.        ],\n",
       "       [0.95008842, 0.        , 0.        ]])"
      ]
     },
     "execution_count": 15,
     "metadata": {},
     "output_type": "execute_result"
    }
   ],
   "source": [
    "#run demo to show function is working\n",
    "relu(feature)"
   ]
  },
  {
   "cell_type": "markdown",
   "metadata": {},
   "source": [
    "<h2>Step 5: Define Sigmoid activation function </h2>"
   ]
  },
  {
   "cell_type": "code",
   "execution_count": 16,
   "metadata": {},
   "outputs": [],
   "source": [
    "def sigmoid(X):\n",
    "    out = np.exp(X)\n",
    "    return out/np.sum(out)"
   ]
  },
  {
   "cell_type": "code",
   "execution_count": 17,
   "metadata": {},
   "outputs": [
    {
     "name": "stdout",
     "output_type": "stream",
     "text": [
      "[ 1.62434536 -0.61175641 -0.52817175 -1.07296862  0.86540763]\n"
     ]
    }
   ],
   "source": [
    "#create random feature array\n",
    "np.random.seed(1)  #set seed to generate same feature array everytime code is executed\n",
    "feature = np.random.randn(5)\n",
    "print(feature)"
   ]
  },
  {
   "cell_type": "code",
   "execution_count": 18,
   "metadata": {},
   "outputs": [
    {
     "data": {
      "text/plain": [
       "array([0.56862917, 0.06077185, 0.06606977, 0.0383178 , 0.26621141])"
      ]
     },
     "execution_count": 18,
     "metadata": {},
     "output_type": "execute_result"
    }
   ],
   "source": [
    "#run demo to show function is working\n",
    "sigmoid(feature)"
   ]
  },
  {
   "cell_type": "markdown",
   "metadata": {},
   "source": [
    "<h2>Step 6: Define cross entropy loss function </h2>"
   ]
  },
  {
   "cell_type": "code",
   "execution_count": 19,
   "metadata": {},
   "outputs": [],
   "source": [
    "def crossEntropy(probs, label):\n",
    "    return -np.sum(label * np.log(probs))"
   ]
  },
  {
   "cell_type": "code",
   "execution_count": 20,
   "metadata": {},
   "outputs": [],
   "source": [
    "#create random label and probs array\n",
    "labels = [1, 0, 0, 0, 0]\n",
    "probs = [0.1, 0.5, 0.1, 0.1, 0.2]"
   ]
  },
  {
   "cell_type": "code",
   "execution_count": 21,
   "metadata": {},
   "outputs": [
    {
     "data": {
      "text/plain": [
       "2.3025850929940455"
      ]
     },
     "execution_count": 21,
     "metadata": {},
     "output_type": "execute_result"
    }
   ],
   "source": [
    "#run demo to show function is working\n",
    "crossEntropy(probs, labels)"
   ]
  }
 ],
 "metadata": {
  "kernelspec": {
   "display_name": "Python 3",
   "language": "python",
   "name": "python3"
  },
  "language_info": {
   "codemirror_mode": {
    "name": "ipython",
    "version": 3
   },
   "file_extension": ".py",
   "mimetype": "text/x-python",
   "name": "python",
   "nbconvert_exporter": "python",
   "pygments_lexer": "ipython3",
   "version": "3.7.3"
  }
 },
 "nbformat": 4,
 "nbformat_minor": 2
}

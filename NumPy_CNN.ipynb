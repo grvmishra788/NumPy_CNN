{
 "cells": [
  {
   "cell_type": "markdown",
   "metadata": {},
   "source": [
    "<h2>Step 1: Load Dataset</h2>"
   ]
  },
  {
   "cell_type": "code",
   "execution_count": 1,
   "metadata": {},
   "outputs": [],
   "source": [
    "#load important libraries\n",
    "import numpy as np\n",
    "import matplotlib.pyplot as plt\n",
    "%matplotlib inline"
   ]
  },
  {
   "cell_type": "code",
   "execution_count": 2,
   "metadata": {},
   "outputs": [],
   "source": [
    "#load dataset from NumPy array files\n",
    "X_train = np.load('./Dataset/X_train.npy')\n",
    "Y_train = np.load('./Dataset/Y_train.npy')\n",
    "X_test = np.load('./Dataset/X_test.npy')\n",
    "Y_test = np.load('./Dataset/Y_test.npy')"
   ]
  },
  {
   "cell_type": "code",
   "execution_count": 3,
   "metadata": {},
   "outputs": [
    {
     "data": {
      "text/plain": [
       "((57266, 28, 28), (57266,), (3015, 28, 28), (3015,))"
      ]
     },
     "execution_count": 3,
     "metadata": {},
     "output_type": "execute_result"
    }
   ],
   "source": [
    "#determine shapes of loaded arrays\n",
    "X_train.shape, Y_train.shape, X_test.shape, Y_test.shape"
   ]
  },
  {
   "cell_type": "code",
   "execution_count": 4,
   "metadata": {},
   "outputs": [],
   "source": [
    "#select random image array index to show\n",
    "train_index = 1185               # should be < 57266\n",
    "test_index = 1011                # should be < 3015"
   ]
  },
  {
   "cell_type": "code",
   "execution_count": 5,
   "metadata": {},
   "outputs": [
    {
     "data": {
      "image/png": "[encoded data removed]",
      "text/plain": [
       "<Figure size 432x288 with 1 Axes>"
      ]
     },
     "metadata": {
      "needs_background": "light"
     },
     "output_type": "display_data"
    },
    {
     "data": {
      "text/plain": [
       "2.0"
      ]
     },
     "execution_count": 5,
     "metadata": {},
     "output_type": "execute_result"
    }
   ],
   "source": [
    "#show training image & label for given train_index\n",
    "plt.imshow(X_train[train_index], interpolation='nearest')\n",
    "plt.show()\n",
    "Y_train[train_index]"
   ]
  },
  {
   "cell_type": "code",
   "execution_count": 6,
   "metadata": {},
   "outputs": [
    {
     "data": {
      "image/png": "[encoded data removed]",
      "text/plain": [
       "<Figure size 432x288 with 1 Axes>"
      ]
     },
     "metadata": {
      "needs_background": "light"
     },
     "output_type": "display_data"
    },
    {
     "data": {
      "text/plain": [
       "6.0"
      ]
     },
     "execution_count": 6,
     "metadata": {},
     "output_type": "execute_result"
    }
   ],
   "source": [
    "#show test image & label for given test_index\n",
    "plt.imshow(X_test[test_index], interpolation='nearest')\n",
    "plt.show()\n",
    "Y_test[test_index]"
   ]
  },
  {
   "cell_type": "markdown",
   "metadata": {},
   "source": [
    "<h2>Step 2: Create convolutional Layer</h2>"
   ]
  },
  {
   "cell_type": "code",
   "execution_count": 7,
   "metadata": {},
   "outputs": [],
   "source": [
    "def convolutionLayer(image, imageFilters, stride=[1,1]):\n",
    "    \n",
    "    #assume 'valid' padding\n",
    "    padding = 0\n",
    "        \n",
    "    #get dimensions of image\n",
    "    heightImage = image.shape[0]\n",
    "    widthImage = image.shape[1]\n",
    "    channelImage = 1\n",
    "    if(len(image.shape)>2):\n",
    "        channelImage = image.shape[2]\n",
    "        \n",
    "    #get dimensions of imageFilters\n",
    "    numberImageFilters = imageFilters.shape[0]\n",
    "    heightImageFilters = imageFilters.shape[1]\n",
    "    widthImageFilters = imageFilters.shape[2]\n",
    "    channelImageFilters = 1\n",
    "    if(len(imageFilters.shape)>3):\n",
    "        channelImageFilters = imageFilters.shape[3]\n",
    "\n",
    "    #check if (No. of channels in image == imageFilters depth) && (imageFilters.length == imageFilters.breadth)\n",
    "    if( (channelImage == channelImageFilters) and (heightImageFilters==widthImageFilters) ):\n",
    "        #init output\n",
    "        heightOutputImage = int((heightImage+2*padding-heightImageFilters)/stride[0] + 1)\n",
    "        widthOutputImage = int((widthImage+2*padding-widthImageFilters)/stride[1] + 1)\n",
    "        results = np.zeros([numberImageFilters, heightOutputImage, widthOutputImage], dtype=float)\n",
    "        \n",
    "        #iterate through all possible locations where filter can be placed\n",
    "        #create temp variable to store row_count in results\n",
    "        iprime = 0\n",
    "        for i in range(0, heightImage-heightImageFilters+1, stride[0]):\n",
    "            #create temp variable to store col_count in results\n",
    "            jprime = 0    \n",
    "            for j in range(0, widthImage-widthImageFilters+1, stride[1]):\n",
    "                #iterate through each filter\n",
    "                for k in range(numberImageFilters):\n",
    "                    currentImageFilter = imageFilters[k, :]\n",
    "                    #get sum of (elementwise product of image and currentImageFilter at current location)\n",
    "                    if (channelImage == 1):\n",
    "                        results[k][iprime][jprime] = np.sum(np.multiply(image[i:i+heightImageFilters, j:j+widthImageFilters], currentImageFilter))\n",
    "                    \n",
    "                    else:\n",
    "                        results[k][iprime][jprime] = np.sum(np.multiply(image[i:i+heightImageFilters, j:j+widthImageFilters, :], currentImageFilter))\n",
    "                #increment temp col_count\n",
    "                jprime = jprime + 1\n",
    "            #increment temp row_count\n",
    "            iprime = iprime + 1\n",
    "        return results  "
   ]
  },
  {
   "cell_type": "code",
   "execution_count": 8,
   "metadata": {},
   "outputs": [
    {
     "name": "stdout",
     "output_type": "stream",
     "text": [
      "(2, 3, 3, 3)\n"
     ]
    }
   ],
   "source": [
    "#create temporary imageFilter for demo\n",
    "imageFilters = np.array([\n",
    "    [[[1,1,1],[0,0,0],[-1,-1,-1]],\n",
    "     [[1,1,1],[0,0,0],[-1,-1,-1]],\n",
    "     [[1,1,1],[0,0,0],[-1,-1,-1]]],\n",
    "    [[[-1,-1,-1],[-1,-1,-1],[-1,-1,-1]],\n",
    "     [[0,0,0],[0,0,0],[0,0,0]],\n",
    "     [[1,1,1],[1,1,1],[1,1,1]]]\n",
    "    ])\n",
    "print(imageFilters.shape)"
   ]
  },
  {
   "cell_type": "code",
   "execution_count": 9,
   "metadata": {},
   "outputs": [
    {
     "name": "stdout",
     "output_type": "stream",
     "text": [
      "(4, 4, 3)\n"
     ]
    }
   ],
   "source": [
    "#create temporary image for demo\n",
    "image = np.array(\n",
    "    [[[1,1,1],[2,2,2],[3,3,3],[4,4,4]],\n",
    "     [[5,5,5],[6,6,6],[7,7,7],[8,8,8]],\n",
    "     [[9,9,9],[10,10,10],[11,11,11],[12,12,12]],\n",
    "     [[13,13,13],[14,14,14],[15,15,15],[16,16,16]]])\n",
    "print(image.shape)"
   ]
  },
  {
   "cell_type": "code",
   "execution_count": 10,
   "metadata": {
    "scrolled": true
   },
   "outputs": [
    {
     "data": {
      "text/plain": [
       "array([[[-18.]],\n",
       "\n",
       "       [[ 72.]]])"
      ]
     },
     "execution_count": 10,
     "metadata": {},
     "output_type": "execute_result"
    }
   ],
   "source": [
    "#run demo to show function is working\n",
    "convolutionLayer(image,imageFilters,[2,2])"
   ]
  },
  {
   "cell_type": "markdown",
   "metadata": {},
   "source": [
    "<h2>Step 3: Create Max Pooling Layer </h2>"
   ]
  },
  {
   "cell_type": "code",
   "execution_count": 11,
   "metadata": {},
   "outputs": [],
   "source": [
    "def maxPoolingLayer(image, size=[2,2], stride=[2,2]):\n",
    "    \n",
    "        #get dimensions of image\n",
    "        heightImage = image.shape[0]\n",
    "        widthImage = image.shape[1]\n",
    "        \n",
    "        #init output\n",
    "        heightOutputImage = int((image.shape[0]-size[0])/stride[0]+1)\n",
    "        widthOutputImage = int((image.shape[1]-size[1])/stride[1]+1)\n",
    "        channelOutputImage = image.shape[-1]\n",
    "        results = np.zeros([heightOutputImage, widthOutputImage, channelOutputImage], dtype=float)\n",
    "        #do for each map(channel) in image\n",
    "        for channel in range(channelOutputImage):\n",
    "            #create temp variable to store row_count in results\n",
    "            iprime = 0\n",
    "            #do for each row in stride[0] steps\n",
    "            for i in range(0, heightImage-size[0]+1, stride[0]):\n",
    "                #create temp variable to store col_count in results\n",
    "                jprime = 0\n",
    "                #do for each col in in stride[1] steps\n",
    "                for j in range(0, widthImage-size[1]+1, stride[1]):\n",
    "                    results[iprime, jprime, channel] = np.max(image[i:i+size[0], j:j+size[1], channel])\n",
    "                    #increment temp col_count\n",
    "                    jprime = jprime + 1\n",
    "                #increment temp row_count\n",
    "                iprime = iprime + 1\n",
    "                \n",
    "        return results"
   ]
  },
  {
   "cell_type": "code",
   "execution_count": 12,
   "metadata": {},
   "outputs": [
    {
     "data": {
      "text/plain": [
       "array([[[ 6.,  6.,  6.],\n",
       "        [ 8.,  8.,  8.]],\n",
       "\n",
       "       [[14., 14., 14.],\n",
       "        [16., 16., 16.]]])"
      ]
     },
     "execution_count": 12,
     "metadata": {},
     "output_type": "execute_result"
    }
   ],
   "source": [
    "#run demo to show function is working\n",
    "maxPoolingLayer(image)"
   ]
  }
 ],
 "metadata": {
  "kernelspec": {
   "display_name": "Python 3",
   "language": "python",
   "name": "python3"
  },
  "language_info": {
   "codemirror_mode": {
    "name": "ipython",
    "version": 3
   },
   "file_extension": ".py",
   "mimetype": "text/x-python",
   "name": "python",
   "nbconvert_exporter": "python",
   "pygments_lexer": "ipython3",
   "version": "3.7.3"
  }
 },
 "nbformat": 4,
 "nbformat_minor": 2
}
